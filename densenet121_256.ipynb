{
  "cells": [
    {
      "cell_type": "code",
      "execution_count": 1,
      "metadata": {
        "id": "xg89bsQhJT2O"
      },
      "outputs": [],
      "source": [
        "import numpy as np\n",
        "import pandas as pd\n",
        "import os\n",
        "import matplotlib.pyplot as plt\n",
        "from keras.applications import  DenseNet121, VGG16, ResNet50, Xception, EfficientNetB7\n",
        "from keras.models import Sequential\n",
        "from keras.layers import Dense, Flatten, BatchNormalization, Dropout, GlobalAveragePooling2D\n",
        "from keras.optimizers import Adam, SGD\n",
        "from keras.callbacks import EarlyStopping\n",
        "from keras.preprocessing.image import ImageDataGenerator\n",
        "from sklearn.model_selection import train_test_split"
      ]
    },
    {
      "cell_type": "code",
      "execution_count": 2,
      "metadata": {},
      "outputs": [
        {
          "name": "stdout",
          "output_type": "stream",
          "text": [
            "[PhysicalDevice(name='/physical_device:GPU:0', device_type='GPU')]\n"
          ]
        }
      ],
      "source": [
        "import tensorflow as tf\n",
        "\n",
        "print(tf.config.list_physical_devices('GPU'))\n",
        "\n",
        "tf.keras.backend.clear_session()"
      ]
    },
    {
      "cell_type": "code",
      "execution_count": 3,
      "metadata": {
        "colab": {
          "base_uri": "https://localhost:8080/"
        },
        "id": "C0z2hWZz00kI",
        "outputId": "30230d35-c034-414a-b88b-7f28179a2e63"
      },
      "outputs": [
        {
          "name": "stdout",
          "output_type": "stream",
          "text": [
            "                                           filepaths     labels\n",
            "0  C:\\Users\\Metehan Sevgil\\Desktop\\KODLAR\\Anacond...  colon_aca\n",
            "1  C:\\Users\\Metehan Sevgil\\Desktop\\KODLAR\\Anacond...  colon_aca\n",
            "2  C:\\Users\\Metehan Sevgil\\Desktop\\KODLAR\\Anacond...  colon_aca\n",
            "3  C:\\Users\\Metehan Sevgil\\Desktop\\KODLAR\\Anacond...  colon_aca\n",
            "4  C:\\Users\\Metehan Sevgil\\Desktop\\KODLAR\\Anacond...  colon_aca\n",
            "                                               filepaths    labels\n",
            "24995  C:\\Users\\Metehan Sevgil\\Desktop\\KODLAR\\Anacond...  lung_scc\n",
            "24996  C:\\Users\\Metehan Sevgil\\Desktop\\KODLAR\\Anacond...  lung_scc\n",
            "24997  C:\\Users\\Metehan Sevgil\\Desktop\\KODLAR\\Anacond...  lung_scc\n",
            "24998  C:\\Users\\Metehan Sevgil\\Desktop\\KODLAR\\Anacond...  lung_scc\n",
            "24999  C:\\Users\\Metehan Sevgil\\Desktop\\KODLAR\\Anacond...  lung_scc\n"
          ]
        }
      ],
      "source": [
        "dataset_dir = r'C:\\Users\\Metehan Sevgil\\Desktop\\KODLAR\\Anaconda\\Bitirme\\lung_colon_image_set'\n",
        "\n",
        "file_paths = []\n",
        "labels = []\n",
        "\n",
        "for root, dirs, files in os.walk(dataset_dir):\n",
        "    for file in files:\n",
        "        if file.endswith('.jpeg'):\n",
        "            file_paths.append(os.path.join(root, file))\n",
        "            labels.append(os.path.basename(root))\n",
        "\n",
        "data_df = pd.DataFrame({'filepaths': file_paths, 'labels': labels})\n",
        "print(data_df.head())\n",
        "print(data_df.tail())"
      ]
    },
    {
      "cell_type": "code",
      "execution_count": 27,
      "metadata": {},
      "outputs": [
        {
          "name": "stdout",
          "output_type": "stream",
          "text": [
            "Found 15000 images belonging to 5 classes.\n",
            "Found 5000 images belonging to 5 classes.\n",
            "Found 5000 images belonging to 5 classes.\n"
          ]
        }
      ],
      "source": [
        "max_epoch = 15\n",
        "batch_size = 8\n",
        "img_size = (256, 256)\n",
        "\n",
        "tr_gen = ImageDataGenerator(rescale=1. / 255)\n",
        "ts_gen = ImageDataGenerator(rescale=1. / 255)\n",
        "vs_gen = ImageDataGenerator(rescale=1. / 255)\n",
        "\n",
        "train_gen = tr_gen.flow_from_directory(\"./dataset/train\",\n",
        "                                        target_size=img_size, batch_size=batch_size, color_mode= 'rgb', class_mode='categorical')\n",
        "\n",
        "test_gen = ts_gen.flow_from_directory(\"./dataset/test\",\n",
        "                                        target_size=img_size, batch_size=batch_size, color_mode= 'rgb', class_mode='categorical')\n",
        "\n",
        "val_gen = vs_gen.flow_from_directory(\"./dataset/val\",\n",
        "                                        target_size=img_size, batch_size=batch_size, color_mode= 'rgb', class_mode='categorical')"
      ]
    },
    {
      "cell_type": "code",
      "execution_count": 5,
      "metadata": {
        "colab": {
          "base_uri": "https://localhost:8080/"
        },
        "id": "ev24zHXpEnum",
        "outputId": "70659971-5228-490a-8e25-87af57c4ce15"
      },
      "outputs": [],
      "source": [
        "def build_model_resnet50(hp):\n",
        "    base_model = DenseNet121(weights='imagenet', include_top=False, input_shape=(256, 256, 3))\n",
        "\n",
        "    base_model.trainable = True\n",
        "\n",
        "    densenet_model = Sequential()\n",
        "    densenet_model.add(base_model)\n",
        "\n",
        "    densenet_model.add(Flatten())\n",
        "    \n",
        "    densenet_model.add(BatchNormalization())   \n",
        "    densenet_model.add(Dense(units=hp.Choice('units', [128, 256, 512]), activation= 'relu'))\n",
        "    densenet_model.add(Dropout(rate= hp.Choice('dropout_rate', [0.4, 0.5])))\n",
        "\n",
        "    densenet_model.add(BatchNormalization())\n",
        "    \n",
        "    densenet_model.add(Dense(5, activation='softmax'))\n",
        "\n",
        "    densenet_model.compile(optimizer=SGD(),\n",
        "                           loss='categorical_crossentropy',\n",
        "                           metrics=['accuracy'])\n",
        "    \n",
        "    return densenet_model "
      ]
    },
    {
      "cell_type": "code",
      "execution_count": 6,
      "metadata": {},
      "outputs": [
        {
          "data": {
            "text/plain": [
              "0.4"
            ]
          },
          "execution_count": 6,
          "metadata": {},
          "output_type": "execute_result"
        }
      ],
      "source": [
        "from  keras_tuner import HyperParameters\n",
        "\n",
        "hp = HyperParameters()\n",
        "hp.Choice('units', [128, 256, 512])\n",
        "hp.Choice('dropout_rate', [0.4, 0.5])"
      ]
    },
    {
      "cell_type": "code",
      "execution_count": 7,
      "metadata": {
        "colab": {
          "base_uri": "https://localhost:8080/",
          "height": 337
        },
        "id": "XlS_8Qf1E7Up",
        "outputId": "fadcf993-99e1-44b7-adde-22e8a1c8d19f"
      },
      "outputs": [],
      "source": [
        "densenet_model = build_model_resnet50(hp)"
      ]
    },
    {
      "cell_type": "code",
      "execution_count": 8,
      "metadata": {
        "id": "VDld3z66Ui54"
      },
      "outputs": [],
      "source": [
        "early_stopping = EarlyStopping(monitor='val_loss', patience=10, restore_best_weights=True)"
      ]
    },
    {
      "cell_type": "code",
      "execution_count": null,
      "metadata": {},
      "outputs": [],
      "source": [
        "from keras_tuner.tuners import Hyperband\n",
        "\n",
        "tuner = Hyperband(build_model_resnet50,\n",
        "                  objective='val_loss',\n",
        "                  max_epochs=5,\n",
        "                  factor=2,   # Her iterasyonda modeli 1/2 oranında azaltır.             \n",
        "                  directory='hyperband_tuning',\n",
        "                  project_name='hyperband_densenet121_256')"
      ]
    },
    {
      "cell_type": "code",
      "execution_count": 22,
      "metadata": {},
      "outputs": [
        {
          "name": "stdout",
          "output_type": "stream",
          "text": [
            "Trial 11 Complete [00h 13m 13s]\n",
            "val_loss: 0.05704978108406067\n",
            "\n",
            "Best val_loss So Far: 0.02340041473507881\n",
            "Total elapsed time: 02h 12m 34s\n"
          ]
        }
      ],
      "source": [
        "tuner.search(train_gen,\n",
        "             validation_data=val_gen,\n",
        "             epochs=5)"
      ]
    },
    {
      "cell_type": "code",
      "execution_count": 23,
      "metadata": {},
      "outputs": [
        {
          "name": "stdout",
          "output_type": "stream",
          "text": [
            "Best Hyperparameters:\n",
            "{'units': 512, 'dropout_rate': 0.4, 'tuner/epochs': 3, 'tuner/initial_epoch': 2, 'tuner/bracket': 2, 'tuner/round': 1, 'tuner/trial_id': '0003'}\n"
          ]
        }
      ],
      "source": [
        "best_hps_densenet121_256 = tuner.get_best_hyperparameters(num_trials=1)[0]\n",
        "\n",
        "print(\"Best Hyperparameters:\")\n",
        "print(best_hps_densenet121_256.values) "
      ]
    },
    {
      "cell_type": "code",
      "execution_count": 24,
      "metadata": {},
      "outputs": [
        {
          "name": "stdout",
          "output_type": "stream",
          "text": [
            "Model: \"sequential_1\"\n",
            "_________________________________________________________________\n",
            " Layer (type)                Output Shape              Param #   \n",
            "=================================================================\n",
            " densenet121 (Functional)    (None, 8, 8, 1024)        7037504   \n",
            "                                                                 \n",
            " flatten_1 (Flatten)         (None, 65536)             0         \n",
            "                                                                 \n",
            " batch_normalization_2 (Batc  (None, 65536)            262144    \n",
            " hNormalization)                                                 \n",
            "                                                                 \n",
            " dense_2 (Dense)             (None, 512)               33554944  \n",
            "                                                                 \n",
            " dropout_1 (Dropout)         (None, 512)               0         \n",
            "                                                                 \n",
            " batch_normalization_3 (Batc  (None, 512)              2048      \n",
            " hNormalization)                                                 \n",
            "                                                                 \n",
            " dense_3 (Dense)             (None, 5)                 2565      \n",
            "                                                                 \n",
            "=================================================================\n",
            "Total params: 40,859,205\n",
            "Trainable params: 40,643,461\n",
            "Non-trainable params: 215,744\n",
            "_________________________________________________________________\n"
          ]
        }
      ],
      "source": [
        "best_model_densenet121_256 = tuner.hypermodel.build(best_hps_densenet121_256)\n",
        "\n",
        "best_model_densenet121_256.summary()"
      ]
    },
    {
      "cell_type": "code",
      "execution_count": 28,
      "metadata": {},
      "outputs": [
        {
          "name": "stdout",
          "output_type": "stream",
          "text": [
            "Epoch 1/15\n",
            "1875/1875 [==============================] - 390s 208ms/step - loss: 0.3084 - accuracy: 0.8943 - val_loss: 0.1049 - val_accuracy: 0.9590\n",
            "Epoch 2/15\n",
            "1875/1875 [==============================] - 390s 208ms/step - loss: 0.1206 - accuracy: 0.9557 - val_loss: 0.0710 - val_accuracy: 0.9736\n",
            "Epoch 3/15\n",
            "1875/1875 [==============================] - 394s 210ms/step - loss: 0.0916 - accuracy: 0.9691 - val_loss: 0.0584 - val_accuracy: 0.9798\n",
            "Epoch 4/15\n",
            "1875/1875 [==============================] - 391s 209ms/step - loss: 0.0621 - accuracy: 0.9792 - val_loss: 0.0246 - val_accuracy: 0.9912\n",
            "Epoch 5/15\n",
            "1875/1875 [==============================] - 391s 209ms/step - loss: 0.0603 - accuracy: 0.9801 - val_loss: 0.0225 - val_accuracy: 0.9910\n",
            "Epoch 6/15\n",
            "1875/1875 [==============================] - 391s 208ms/step - loss: 0.0428 - accuracy: 0.9852 - val_loss: 0.0136 - val_accuracy: 0.9946\n",
            "Epoch 7/15\n",
            "1875/1875 [==============================] - 390s 208ms/step - loss: 0.0396 - accuracy: 0.9873 - val_loss: 0.0095 - val_accuracy: 0.9980\n",
            "Epoch 8/15\n",
            "1875/1875 [==============================] - 389s 208ms/step - loss: 0.0231 - accuracy: 0.9935 - val_loss: 0.0085 - val_accuracy: 0.9970\n",
            "Epoch 9/15\n",
            "1875/1875 [==============================] - 390s 208ms/step - loss: 0.0157 - accuracy: 0.9954 - val_loss: 0.0077 - val_accuracy: 0.9980\n",
            "Epoch 10/15\n",
            "1875/1875 [==============================] - 394s 210ms/step - loss: 0.0231 - accuracy: 0.9933 - val_loss: 0.0050 - val_accuracy: 0.9990\n",
            "Epoch 11/15\n",
            "1875/1875 [==============================] - 392s 209ms/step - loss: 0.0181 - accuracy: 0.9947 - val_loss: 0.0120 - val_accuracy: 0.9956\n",
            "Epoch 12/15\n",
            "1875/1875 [==============================] - 386s 206ms/step - loss: 0.0185 - accuracy: 0.9943 - val_loss: 0.0044 - val_accuracy: 0.9992\n",
            "Epoch 13/15\n",
            "1875/1875 [==============================] - 386s 206ms/step - loss: 0.0113 - accuracy: 0.9969 - val_loss: 0.0028 - val_accuracy: 0.9994\n",
            "Epoch 14/15\n",
            "1875/1875 [==============================] - 385s 205ms/step - loss: 0.0105 - accuracy: 0.9969 - val_loss: 0.0045 - val_accuracy: 0.9982\n",
            "Epoch 15/15\n",
            "1875/1875 [==============================] - 385s 205ms/step - loss: 0.0102 - accuracy: 0.9968 - val_loss: 0.0043 - val_accuracy: 0.9980\n"
          ]
        }
      ],
      "source": [
        "history_densenet121_256 = best_model_densenet121_256.fit(train_gen,\n",
        "                                                         validation_data=val_gen,\n",
        "                                                         epochs=max_epoch,\n",
        "                                                         callbacks=[early_stopping])"
      ]
    },
    {
      "cell_type": "code",
      "execution_count": 29,
      "metadata": {},
      "outputs": [],
      "source": [
        "import json\n",
        "\n",
        "with open(\"history_densenet121_256.json\", \"w\") as f:\n",
        "    json.dump(history_densenet121_256.history, f)"
      ]
    },
    {
      "cell_type": "code",
      "execution_count": 30,
      "metadata": {},
      "outputs": [],
      "source": [
        "best_model_densenet121_256.save('densenet121_model_256.h5')"
      ]
    }
  ],
  "metadata": {
    "accelerator": "TPU",
    "colab": {
      "gpuType": "V5E1",
      "machine_shape": "hm",
      "provenance": []
    },
    "kernelspec": {
      "display_name": "Python 3",
      "name": "python3"
    },
    "language_info": {
      "codemirror_mode": {
        "name": "ipython",
        "version": 3
      },
      "file_extension": ".py",
      "mimetype": "text/x-python",
      "name": "python",
      "nbconvert_exporter": "python",
      "pygments_lexer": "ipython3",
      "version": "3.10.0"
    }
  },
  "nbformat": 4,
  "nbformat_minor": 0
}
