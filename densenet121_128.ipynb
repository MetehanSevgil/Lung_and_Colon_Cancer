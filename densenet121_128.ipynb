{
  "cells": [
    {
      "cell_type": "code",
      "execution_count": 1,
      "metadata": {
        "id": "xg89bsQhJT2O"
      },
      "outputs": [],
      "source": [
        "import numpy as np\n",
        "import pandas as pd\n",
        "import os\n",
        "import matplotlib.pyplot as plt\n",
        "from keras.applications import  DenseNet121, VGG16, ResNet50, Xception, EfficientNetB7\n",
        "from keras.models import Sequential\n",
        "from keras.layers import Dense, Flatten, BatchNormalization, Dropout, GlobalAveragePooling2D\n",
        "from keras.optimizers import Adam, SGD\n",
        "from keras.callbacks import EarlyStopping\n",
        "from keras.preprocessing.image import ImageDataGenerator\n",
        "from sklearn.model_selection import train_test_split"
      ]
    },
    {
      "cell_type": "code",
      "execution_count": 1,
      "metadata": {},
      "outputs": [
        {
          "name": "stdout",
          "output_type": "stream",
          "text": [
            "[PhysicalDevice(name='/physical_device:GPU:0', device_type='GPU')]\n"
          ]
        }
      ],
      "source": [
        "import tensorflow as tf\n",
        "\n",
        "print(tf.config.list_physical_devices('GPU'))\n",
        "\n",
        "tf.keras.backend.clear_session()"
      ]
    },
    {
      "cell_type": "code",
      "execution_count": 3,
      "metadata": {
        "colab": {
          "base_uri": "https://localhost:8080/"
        },
        "id": "C0z2hWZz00kI",
        "outputId": "30230d35-c034-414a-b88b-7f28179a2e63"
      },
      "outputs": [
        {
          "name": "stdout",
          "output_type": "stream",
          "text": [
            "                                           filepaths     labels\n",
            "0  C:\\Users\\Metehan Sevgil\\Desktop\\KODLAR\\Anacond...  colon_aca\n",
            "1  C:\\Users\\Metehan Sevgil\\Desktop\\KODLAR\\Anacond...  colon_aca\n",
            "2  C:\\Users\\Metehan Sevgil\\Desktop\\KODLAR\\Anacond...  colon_aca\n",
            "3  C:\\Users\\Metehan Sevgil\\Desktop\\KODLAR\\Anacond...  colon_aca\n",
            "4  C:\\Users\\Metehan Sevgil\\Desktop\\KODLAR\\Anacond...  colon_aca\n",
            "                                               filepaths    labels\n",
            "24995  C:\\Users\\Metehan Sevgil\\Desktop\\KODLAR\\Anacond...  lung_scc\n",
            "24996  C:\\Users\\Metehan Sevgil\\Desktop\\KODLAR\\Anacond...  lung_scc\n",
            "24997  C:\\Users\\Metehan Sevgil\\Desktop\\KODLAR\\Anacond...  lung_scc\n",
            "24998  C:\\Users\\Metehan Sevgil\\Desktop\\KODLAR\\Anacond...  lung_scc\n",
            "24999  C:\\Users\\Metehan Sevgil\\Desktop\\KODLAR\\Anacond...  lung_scc\n"
          ]
        }
      ],
      "source": [
        "dataset_dir = r'C:\\Users\\Metehan Sevgil\\Desktop\\KODLAR\\Anaconda\\Bitirme\\lung_colon_image_set'\n",
        "\n",
        "file_paths = []\n",
        "labels = []\n",
        "\n",
        "for root, dirs, files in os.walk(dataset_dir):\n",
        "    for file in files:\n",
        "        if file.endswith('.jpeg'):\n",
        "            file_paths.append(os.path.join(root, file))\n",
        "            labels.append(os.path.basename(root))\n",
        "\n",
        "data_df = pd.DataFrame({'filepaths': file_paths, 'labels': labels})\n",
        "print(data_df.head())\n",
        "print(data_df.tail())"
      ]
    },
    {
      "cell_type": "code",
      "execution_count": 9,
      "metadata": {},
      "outputs": [
        {
          "name": "stdout",
          "output_type": "stream",
          "text": [
            "Found 15000 images belonging to 5 classes.\n",
            "Found 5000 images belonging to 5 classes.\n",
            "Found 5000 images belonging to 5 classes.\n"
          ]
        }
      ],
      "source": [
        "max_epoch = 15\n",
        "batch_size = 32\n",
        "img_size = (128, 128)\n",
        "\n",
        "tr_gen = ImageDataGenerator(rescale=1. / 255)\n",
        "ts_gen = ImageDataGenerator(rescale=1. / 255)\n",
        "vs_gen = ImageDataGenerator(rescale=1. / 255)\n",
        "\n",
        "train_gen = tr_gen.flow_from_directory(\"./dataset/train\",\n",
        "                                        target_size=img_size, batch_size=batch_size, color_mode= 'rgb', class_mode='categorical')\n",
        "\n",
        "test_gen = ts_gen.flow_from_directory(\"./dataset/test\",\n",
        "                                        target_size=img_size, batch_size=batch_size, color_mode= 'rgb', class_mode='categorical')\n",
        "\n",
        "val_gen = vs_gen.flow_from_directory(\"./dataset/val\",\n",
        "                                        target_size=img_size, batch_size=batch_size, color_mode= 'rgb', class_mode='categorical')"
      ]
    },
    {
      "cell_type": "code",
      "execution_count": 5,
      "metadata": {
        "colab": {
          "base_uri": "https://localhost:8080/"
        },
        "id": "ev24zHXpEnum",
        "outputId": "70659971-5228-490a-8e25-87af57c4ce15"
      },
      "outputs": [
        {
          "name": "stdout",
          "output_type": "stream",
          "text": [
            "Model: \"sequential\"\n",
            "_________________________________________________________________\n",
            " Layer (type)                Output Shape              Param #   \n",
            "=================================================================\n",
            " densenet121 (Functional)    (None, 4, 4, 1024)        7037504   \n",
            "                                                                 \n",
            " flatten (Flatten)           (None, 16384)             0         \n",
            "                                                                 \n",
            " batch_normalization (BatchN  (None, 16384)            65536     \n",
            " ormalization)                                                   \n",
            "                                                                 \n",
            " dense (Dense)               (None, 512)               8389120   \n",
            "                                                                 \n",
            " dropout (Dropout)           (None, 512)               0         \n",
            "                                                                 \n",
            " batch_normalization_1 (Batc  (None, 512)              2048      \n",
            " hNormalization)                                                 \n",
            "                                                                 \n",
            " dense_1 (Dense)             (None, 5)                 2565      \n",
            "                                                                 \n",
            "=================================================================\n",
            "Total params: 15,496,773\n",
            "Trainable params: 15,379,333\n",
            "Non-trainable params: 117,440\n",
            "_________________________________________________________________\n"
          ]
        }
      ],
      "source": [
        "base_model = DenseNet121(weights='imagenet', include_top=False, input_shape=(128, 128, 3))\n",
        "\n",
        "base_model.trainable = True\n",
        "\n",
        "densenet121_128 = Sequential()\n",
        "densenet121_128.add(base_model)\n",
        "\n",
        "densenet121_128.add(Flatten())\n",
        "\n",
        "densenet121_128.add(BatchNormalization())\n",
        "densenet121_128.add(Dense(512, activation='relu'))\n",
        "densenet121_128.add(Dropout(0.4))\n",
        "\n",
        "densenet121_128.add(BatchNormalization())\n",
        "\n",
        "densenet121_128.add(Dense(5, activation='softmax'))\n",
        "\n",
        "densenet121_128.compile(optimizer=SGD(), \n",
        "                     loss='categorical_crossentropy', \n",
        "                     metrics=['accuracy'])\n",
        "\n",
        "densenet121_128.summary()"
      ]
    },
    {
      "cell_type": "code",
      "execution_count": 6,
      "metadata": {
        "id": "VDld3z66Ui54"
      },
      "outputs": [],
      "source": [
        "early_stopping = EarlyStopping(monitor='val_loss', patience=10, restore_best_weights=True)"
      ]
    },
    {
      "cell_type": "code",
      "execution_count": 10,
      "metadata": {},
      "outputs": [
        {
          "name": "stdout",
          "output_type": "stream",
          "text": [
            "Epoch 1/15\n",
            "469/469 [==============================] - 116s 237ms/step - loss: 0.1407 - accuracy: 0.9493 - val_loss: 0.0576 - val_accuracy: 0.9790\n",
            "Epoch 2/15\n",
            "469/469 [==============================] - 101s 216ms/step - loss: 0.0408 - accuracy: 0.9863 - val_loss: 0.0138 - val_accuracy: 0.9948\n",
            "Epoch 3/15\n",
            "469/469 [==============================] - 101s 216ms/step - loss: 0.0178 - accuracy: 0.9940 - val_loss: 0.0120 - val_accuracy: 0.9950\n",
            "Epoch 4/15\n",
            "469/469 [==============================] - 102s 218ms/step - loss: 0.0118 - accuracy: 0.9961 - val_loss: 0.0054 - val_accuracy: 0.9980\n",
            "Epoch 5/15\n",
            "469/469 [==============================] - 101s 215ms/step - loss: 0.0069 - accuracy: 0.9980 - val_loss: 0.0066 - val_accuracy: 0.9974\n",
            "Epoch 6/15\n",
            "469/469 [==============================] - 101s 215ms/step - loss: 0.0062 - accuracy: 0.9983 - val_loss: 0.0042 - val_accuracy: 0.9984\n",
            "Epoch 7/15\n",
            "469/469 [==============================] - 102s 218ms/step - loss: 0.0040 - accuracy: 0.9989 - val_loss: 0.0054 - val_accuracy: 0.9980\n",
            "Epoch 8/15\n",
            "469/469 [==============================] - 102s 217ms/step - loss: 0.0050 - accuracy: 0.9986 - val_loss: 0.0056 - val_accuracy: 0.9980\n",
            "Epoch 9/15\n",
            "469/469 [==============================] - 102s 217ms/step - loss: 0.0029 - accuracy: 0.9994 - val_loss: 0.0044 - val_accuracy: 0.9990\n",
            "Epoch 10/15\n",
            "469/469 [==============================] - 102s 218ms/step - loss: 0.0019 - accuracy: 0.9997 - val_loss: 0.0037 - val_accuracy: 0.9992\n",
            "Epoch 11/15\n",
            "469/469 [==============================] - 101s 215ms/step - loss: 0.0021 - accuracy: 0.9996 - val_loss: 0.0035 - val_accuracy: 0.9986\n",
            "Epoch 12/15\n",
            "469/469 [==============================] - 102s 217ms/step - loss: 0.0023 - accuracy: 0.9998 - val_loss: 0.0024 - val_accuracy: 0.9992\n",
            "Epoch 13/15\n",
            "469/469 [==============================] - 101s 215ms/step - loss: 0.0024 - accuracy: 0.9993 - val_loss: 0.0029 - val_accuracy: 0.9996\n",
            "Epoch 14/15\n",
            "469/469 [==============================] - 101s 216ms/step - loss: 0.0016 - accuracy: 0.9999 - val_loss: 0.0019 - val_accuracy: 0.9996\n",
            "Epoch 15/15\n",
            "469/469 [==============================] - 101s 214ms/step - loss: 0.0018 - accuracy: 0.9995 - val_loss: 0.0023 - val_accuracy: 0.9988\n"
          ]
        }
      ],
      "source": [
        "history_densenet121_128 = densenet121_128.fit(train_gen,\n",
        "                                              validation_data=val_gen,\n",
        "                                              epochs=max_epoch,\n",
        "                                              callbacks=[early_stopping])"
      ]
    },
    {
      "cell_type": "code",
      "execution_count": 11,
      "metadata": {},
      "outputs": [],
      "source": [
        "import json\n",
        "\n",
        "with open(\"history_densenet121_128.json\", \"w\") as f:\n",
        "    json.dump(history_densenet121_128.history, f)"
      ]
    },
    {
      "cell_type": "code",
      "execution_count": 12,
      "metadata": {},
      "outputs": [],
      "source": [
        "densenet121_128.save('densenet121_model_128.h5')"
      ]
    }
  ],
  "metadata": {
    "accelerator": "TPU",
    "colab": {
      "gpuType": "V5E1",
      "machine_shape": "hm",
      "provenance": []
    },
    "kernelspec": {
      "display_name": "Python 3",
      "name": "python3"
    },
    "language_info": {
      "codemirror_mode": {
        "name": "ipython",
        "version": 3
      },
      "file_extension": ".py",
      "mimetype": "text/x-python",
      "name": "python",
      "nbconvert_exporter": "python",
      "pygments_lexer": "ipython3",
      "version": "3.10.0"
    }
  },
  "nbformat": 4,
  "nbformat_minor": 0
}
